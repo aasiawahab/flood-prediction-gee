{
 "cells": [
  {
   "cell_type": "markdown",
   "id": "875e6a03-57b9-493a-b4d9-ac7fd90498d1",
   "metadata": {},
   "source": [
    "\n",
    "# Data Visualization Notebook"
   ]
  },
  {
   "cell_type": "markdown",
   "id": "262bcc0a-f738-4fc7-9106-7d46ec3a0961",
   "metadata": {},
   "source": [
    "This Jupyter notebook provides code for visualizing and preprocessing data for the germany administrative boundary."
   ]
  },
  {
   "cell_type": "markdown",
   "id": "e266a38c-ec41-4338-86ae-601342ef7672",
   "metadata": {},
   "source": [
    "## Importing Libraries and Setting Up Environment"
   ]
  },
  {
   "cell_type": "code",
   "execution_count": 1,
   "id": "25de7831-1a4a-4841-9d23-ffbef7621627",
   "metadata": {},
   "outputs": [],
   "source": [
    "import ee  # Import Earth Engine Python API\n",
    "import geemap  # Import geemap library for interactive mapping\n",
    "import pandas as pd  # Import pandas library for data manipulation\n",
    "import os  # Import os module for operating system functionalities\n",
    "import matplotlib.pyplot as plt # for plotting graphs"
   ]
  },
  {
   "cell_type": "markdown",
   "id": "87d0b11b-518a-41ce-8112-903479959ac1",
   "metadata": {},
   "source": [
    "## Authentication for Earth Engine"
   ]
  },
  {
   "cell_type": "code",
   "execution_count": 2,
   "id": "7b99229c-b030-426e-a9ea-1c32700846d9",
   "metadata": {},
   "outputs": [
    {
     "data": {
      "text/html": [
       "\n",
       "            <style>\n",
       "                .geemap-dark {\n",
       "                    --jp-widgets-color: white;\n",
       "                    --jp-widgets-label-color: white;\n",
       "                    --jp-ui-font-color1: white;\n",
       "                    --jp-layout-color2: #454545;\n",
       "                    background-color: #383838;\n",
       "                }\n",
       "                    \n",
       "                .geemap-dark .jupyter-button {\n",
       "                    --jp-layout-color3: #383838;\n",
       "                }\n",
       "                \n",
       "                .geemap-colab {\n",
       "                    background-color: var(--colab-primary-surface-color, white);\n",
       "                }\n",
       "                    \n",
       "                .geemap-colab .jupyter-button {\n",
       "                    --jp-layout-color3: var(--colab-primary-surface-color, white);\n",
       "                }\n",
       "            </style>\n",
       "            "
      ],
      "text/plain": [
       "<IPython.core.display.HTML object>"
      ]
     },
     "metadata": {},
     "output_type": "display_data"
    },
    {
     "data": {
      "text/html": [
       "<p>
      ],
      "text/plain": [
       "<IPython.core.display.HTML object>"
      ]
     },
     "metadata": {},
     "output_type": "display_data"
    },
    {
     "name": "stdout",
     "output_type": "stream",
     "text": [
      "\n",
      "Successfully saved authorization token.\n"
     ]
    }
   ],
   "source": [
    "ee.Authenticate()"
   ]
  },
  {
   "cell_type": "markdown",
   "id": "cae349b5-7df3-4d85-b4d2-0a46707053ec",
   "metadata": {},
   "source": [
    "## Initializing Earth Engine"
   ]
  },
  {
   "cell_type": "code",
   "execution_count": 3,
   "id": "57085f1e-290b-445a-a5c6-3de47d3b1203",
   "metadata": {},
   "outputs": [
    {
     "data": {
      "text/html": [
       "\n",
       "            <style>\n",
       "                .geemap-dark {\n",
       "                    --jp-widgets-color: white;\n",
       "                    --jp-widgets-label-color: white;\n",
       "                    --jp-ui-font-color1: white;\n",
       "                    --jp-layout-color2: #454545;\n",
       "                    background-color: #383838;\n",
       "                }\n",
       "                    \n",
       "                .geemap-dark .jupyter-button {\n",
       "                    --jp-layout-color3: #383838;\n",
       "                }\n",
       "                \n",
       "                .geemap-colab {\n",
       "                    background-color: var(--colab-primary-surface-color, white);\n",
       "                }\n",
       "                    \n",
       "                .geemap-colab .jupyter-button {\n",
       "                    --jp-layout-color3: var(--colab-primary-surface-color, white);\n",
       "                }\n",
       "            </style>\n",
       "            "
      ],
      "text/plain": [
       "<IPython.core.display.HTML object>"
      ]
     },
     "metadata": {},
     "output_type": "display_data"
    }
   ],
   "source": [
    "ee.Initialize()"
   ]
  },
  {
   "cell_type": "markdown",
   "id": "964d88ba-8f91-4ac8-843b-cbdbb18a450f",
   "metadata": {},
   "source": [
    "## Loading World Boundaries Dataset"
   ]
  },
  {
   "cell_type": "code",
   "execution_count": 4,
   "id": "ae465b58-5ad8-4116-accc-7c4294ae775b",
   "metadata": {},
   "outputs": [
    {
     "data": {
      "text/html": [
       "\n",
       "            <style>\n",
       "                .geemap-dark {\n",
       "                    --jp-widgets-color: white;\n",
       "                    --jp-widgets-label-color: white;\n",
       "                    --jp-ui-font-color1: white;\n",
       "                    --jp-layout-color2: #454545;\n",
       "                    background-color: #383838;\n",
       "                }\n",
       "                    \n",
       "                .geemap-dark .jupyter-button {\n",
       "                    --jp-layout-color3: #383838;\n",
       "                }\n",
       "                \n",
       "                .geemap-colab {\n",
       "                    background-color: var(--colab-primary-surface-color, white);\n",
       "                }\n",
       "                    \n",
       "                .geemap-colab .jupyter-button {\n",
       "                    --jp-layout-color3: var(--colab-primary-surface-color, white);\n",
       "                }\n",
       "            </style>\n",
       "            "
      ],
      "text/plain": [
       "<IPython.core.display.HTML object>"
      ]
     },
     "metadata": {},
     "output_type": "display_data"
    }
   ],
   "source": [
    "# Load the world boundaries dataset from EE\n",
    "world_boundaries = ee.FeatureCollection('FAO/GAUL/2015/level0')"
   ]
  },
  {
   "cell_type": "markdown",
   "id": "f897db58-c1a5-4881-b078-d0264d2d839d",
   "metadata": {},
   "source": [
    "## Filtering Germany Boundary"
   ]
  },
  {
   "cell_type": "markdown",
   "id": "447e31bc-f6dc-407a-b0d5-dfde75596f5d",
   "metadata": {},
   "source": [
    "This code snippet filters the loaded world boundaries dataset to obtain the boundary of Germany based on the 'ADM0_NAME' attribute.\n",
    "\n",
    "\n"
   ]
  },
  {
   "cell_type": "code",
   "execution_count": 5,
   "id": "ff1392b6-bc0f-4e2a-96e0-e99e1a82de43",
   "metadata": {},
   "outputs": [
    {
     "data": {
      "text/html": [
       "\n",
       "            <style>\n",
       "                .geemap-dark {\n",
       "                    --jp-widgets-color: white;\n",
       "                    --jp-widgets-label-color: white;\n",
       "                    --jp-ui-font-color1: white;\n",
       "                    --jp-layout-color2: #454545;\n",
       "                    background-color: #383838;\n",
       "                }\n",
       "                    \n",
       "                .geemap-dark .jupyter-button {\n",
       "                    --jp-layout-color3: #383838;\n",
       "                }\n",
       "                \n",
       "                .geemap-colab {\n",
       "                    background-color: var(--colab-primary-surface-color, white);\n",
       "                }\n",
       "                    \n",
       "                .geemap-colab .jupyter-button {\n",
       "                    --jp-layout-color3: var(--colab-primary-surface-color, white);\n",
       "                }\n",
       "            </style>\n",
       "            "
      ],
      "text/plain": [
       "<IPython.core.display.HTML object>"
      ]
     },
     "metadata": {},
     "output_type": "display_data"
    }
   ],
   "source": [
    "# Filter the dataset to get the boundary of Germany\n",
    "germany_boundary = world_boundaries.filter(ee.Filter.eq('ADM0_NAME', 'Germany'))"
   ]
  },
  {
   "cell_type": "markdown",
   "id": "a4ab4cce-783b-4b89-bf24-026219ad5b75",
   "metadata": {},
   "source": [
    "## Creating a Map Instance Using geemap\n",
    "The provided code snippet demonstrates the creation of a map instance using the geemap library in Python."
   ]
  },
  {
   "cell_type": "code",
   "execution_count": 6,
   "id": "e4004b76-bca3-481a-bd2c-6a8854af6a91",
   "metadata": {},
   "outputs": [
    {
     "data": {
      "text/html": [
       "\n",
       "            <style>\n",
       "                .geemap-dark {\n",
       "                    --jp-widgets-color: white;\n",
       "                    --jp-widgets-label-color: white;\n",
       "                    --jp-ui-font-color1: white;\n",
       "                    --jp-layout-color2: #454545;\n",
       "                    background-color: #383838;\n",
       "                }\n",
       "                    \n",
       "                .geemap-dark .jupyter-button {\n",
       "                    --jp-layout-color3: #383838;\n",
       "                }\n",
       "                \n",
       "                .geemap-colab {\n",
       "                    background-color: var(--colab-primary-surface-color, white);\n",
       "                }\n",
       "                    \n",
       "                .geemap-colab .jupyter-button {\n",
       "                    --jp-layout-color3: var(--colab-primary-surface-color, white);\n",
       "                }\n",
       "            </style>\n",
       "            "
      ],
      "text/plain": [
       "<IPython.core.display.HTML object>"
      ]
     },
     "metadata": {},
     "output_type": "display_data"
    }
   ],
   "source": [
    "# Create a Map instance using geemap\n",
    "Map = geemap.Map()"
   ]
  },
  {
   "cell_type": "markdown",
   "id": "30f656e2-0199-4912-8288-859fd4cd4e09",
   "metadata": {},
   "source": [
    "## Adding the Germany Boundary to the Map\n",
    "The provided code snippet demonstrates the addition of the boundary of Germany as a layer to the map using the addLayer() method in the geemap library in Python."
   ]
  },
  {
   "cell_type": "code",
   "execution_count": 7,
   "id": "5cbc007b-9a8b-4c43-9149-fdfb82ca4a1f",
   "metadata": {},
   "outputs": [
    {
     "data": {
      "text/html": [
       "\n",
       "            <style>\n",
       "                .geemap-dark {\n",
       "                    --jp-widgets-color: white;\n",
       "                    --jp-widgets-label-color: white;\n",
       "                    --jp-ui-font-color1: white;\n",
       "                    --jp-layout-color2: #454545;\n",
       "                    background-color: #383838;\n",
       "                }\n",
       "                    \n",
       "                .geemap-dark .jupyter-button {\n",
       "                    --jp-layout-color3: #383838;\n",
       "                }\n",
       "                \n",
       "                .geemap-colab {\n",
       "                    background-color: var(--colab-primary-surface-color, white);\n",
       "                }\n",
       "                    \n",
       "                .geemap-colab .jupyter-button {\n",
       "                    --jp-layout-color3: var(--colab-primary-surface-color, white);\n",
       "                }\n",
       "            </style>\n",
       "            "
      ],
      "text/plain": [
       "<IPython.core.display.HTML object>"
      ]
     },
     "metadata": {},
     "output_type": "display_data"
    }
   ],
   "source": [
    "# Add the Germany boundary to the map\n",
    "Map.addLayer(germany_boundary, {'color': 'FF0000'}, 'Germany Boundary')"
   ]
  },
  {
   "cell_type": "markdown",
   "id": "65ea0890-48b4-4f6f-a7ee-1bd4ad02b6d1",
   "metadata": {},
   "source": [
    "## Centering the Map on Germany\n",
    "The provided code snippet demonstrates centering the map view on the boundary of Germany using the centerObject() method in the geemap library in Python."
   ]
  },
  {
   "cell_type": "code",
   "execution_count": 8,
   "id": "d3e1bdd9-5393-4fee-b688-9fb7a495cba7",
   "metadata": {},
   "outputs": [
    {
     "data": {
      "text/html": [
       "\n",
       "            <style>\n",
       "                .geemap-dark {\n",
       "                    --jp-widgets-color: white;\n",
       "                    --jp-widgets-label-color: white;\n",
       "                    --jp-ui-font-color1: white;\n",
       "                    --jp-layout-color2: #454545;\n",
       "                    background-color: #383838;\n",
       "                }\n",
       "                    \n",
       "                .geemap-dark .jupyter-button {\n",
       "                    --jp-layout-color3: #383838;\n",
       "                }\n",
       "                \n",
       "                .geemap-colab {\n",
       "                    background-color: var(--colab-primary-surface-color, white);\n",
       "                }\n",
       "                    \n",
       "                .geemap-colab .jupyter-button {\n",
       "                    --jp-layout-color3: var(--colab-primary-surface-color, white);\n",
       "                }\n",
       "            </style>\n",
       "            "
      ],
      "text/plain": [
       "<IPython.core.display.HTML object>"
      ]
     },
     "metadata": {},
     "output_type": "display_data"
    }
   ],
   "source": [
    "# Center the map on Germany\n",
    "Map.centerObject(germany_boundary, 6)"
   ]
  },
  {
   "cell_type": "markdown",
   "id": "ce6b3a01-cd1b-48d5-ac5f-3dd9fe65a2b5",
   "metadata": {},
   "source": [
    "## Creating a Grid Overlay on a Map\n",
    "The provided code snippet demonstrates the creation of a grid overlay on a map, overlaid on the boundary of Germany, using the geemap library in Python."
   ]
  },
  {
   "cell_type": "code",
   "execution_count": 9,
   "id": "e9422f59-e836-4ffc-a198-8e7edf6b741e",
   "metadata": {},
   "outputs": [
    {
     "data": {
      "text/html": [
       "\n",
       "            <style>\n",
       "                .geemap-dark {\n",
       "                    --jp-widgets-color: white;\n",
       "                    --jp-widgets-label-color: white;\n",
       "                    --jp-ui-font-color1: white;\n",
       "                    --jp-layout-color2: #454545;\n",
       "                    background-color: #383838;\n",
       "                }\n",
       "                    \n",
       "                .geemap-dark .jupyter-button {\n",
       "                    --jp-layout-color3: #383838;\n",
       "                }\n",
       "                \n",
       "                .geemap-colab {\n",
       "                    background-color: var(--colab-primary-surface-color, white);\n",
       "                }\n",
       "                    \n",
       "                .geemap-colab .jupyter-button {\n",
       "                    --jp-layout-color3: var(--colab-primary-surface-color, white);\n",
       "                }\n",
       "            </style>\n",
       "            "
      ],
      "text/plain": [
       "<IPython.core.display.HTML object>"
      ]
     },
     "metadata": {},
     "output_type": "display_data"
    }
   ],
   "source": [
    "grid = geemap.create_grid(germany_boundary, 2e4)\n",
    "Map.addLayer(grid, {'color': '000000'}, 'Grid')"
   ]
  },
  {
   "cell_type": "markdown",
   "id": "8244cb6a-760c-4abf-9525-20eebabc1813",
   "metadata": {},
   "source": [
    "## Adding Random Points to a Map\n",
    "The provided code snippet demonstrates the addition of randomly generated points within the boundary of Germany to a map using the Earth Engine Python API."
   ]
  },
  {
   "cell_type": "code",
   "execution_count": 10,
   "id": "3ac62cab-0468-459c-9f89-be49029e0457",
   "metadata": {},
   "outputs": [
    {
     "data": {
      "text/html": [
       "\n",
       "            <style>\n",
       "                .geemap-dark {\n",
       "                    --jp-widgets-color: white;\n",
       "                    --jp-widgets-label-color: white;\n",
       "                    --jp-ui-font-color1: white;\n",
       "                    --jp-layout-color2: #454545;\n",
       "                    background-color: #383838;\n",
       "                }\n",
       "                    \n",
       "                .geemap-dark .jupyter-button {\n",
       "                    --jp-layout-color3: #383838;\n",
       "                }\n",
       "                \n",
       "                .geemap-colab {\n",
       "                    background-color: var(--colab-primary-surface-color, white);\n",
       "                }\n",
       "                    \n",
       "                .geemap-colab .jupyter-button {\n",
       "                    --jp-layout-color3: var(--colab-primary-surface-color, white);\n",
       "                }\n",
       "            </style>\n",
       "            "
      ],
      "text/plain": [
       "<IPython.core.display.HTML object>"
      ]
     },
     "metadata": {},
     "output_type": "display_data"
    }
   ],
   "source": [
    "points = ee.FeatureCollection.randomPoints(germany_boundary, 10000)\n",
    "Map.addLayer(points, {}, 'Random Points')"
   ]
  },
  {
   "cell_type": "markdown",
   "id": "b4dcf81f-4e33-4e57-9262-80a8d6010fe5",
   "metadata": {},
   "source": [
    "## Finding the grid size"
   ]
  },
  {
   "cell_type": "code",
   "execution_count": 11,
   "id": "21e89fec-c05b-44a8-8466-0e0af6b82798",
   "metadata": {},
   "outputs": [
    {
     "data": {
      "text/html": [
       "\n",
       "            <style>\n",
       "                .geemap-dark {\n",
       "                    --jp-widgets-color: white;\n",
       "                    --jp-widgets-label-color: white;\n",
       "                    --jp-ui-font-color1: white;\n",
       "                    --jp-layout-color2: #454545;\n",
       "                    background-color: #383838;\n",
       "                }\n",
       "                    \n",
       "                .geemap-dark .jupyter-button {\n",
       "                    --jp-layout-color3: #383838;\n",
       "                }\n",
       "                \n",
       "                .geemap-colab {\n",
       "                    background-color: var(--colab-primary-surface-color, white);\n",
       "                }\n",
       "                    \n",
       "                .geemap-colab .jupyter-button {\n",
       "                    --jp-layout-color3: var(--colab-primary-surface-color, white);\n",
       "                }\n",
       "            </style>\n",
       "            "
      ],
      "text/plain": [
       "<IPython.core.display.HTML object>"
      ]
     },
     "metadata": {},
     "output_type": "display_data"
    },
    {
     "name": "stdout",
     "output_type": "stream",
     "text": [
      "Number of cells in the grid: 1590\n"
     ]
    }
   ],
   "source": [
    "# Get the size of the grid feature collection\n",
    "grid_size = grid.size()\n",
    "\n",
    "# Print the size of the grid\n",
    "print(\"Number of cells in the grid:\", grid_size.getInfo())"
   ]
  },
  {
   "cell_type": "markdown",
   "id": "cc990c2f-1c63-4843-91ab-4fbbce5f3f82",
   "metadata": {},
   "source": [
    "## Elevation and Slope"
   ]
  },
  {
   "cell_type": "markdown",
   "id": "45f13a7c-5bdc-4248-936c-2d6f5a321f4c",
   "metadata": {},
   "source": [
    "This code segment loads the SRTM elevation dataset, calculates the slope, clips both the slope and elevation images to the boundary of Germany, and displays them on an interactive map centered on Germany's boundary."
   ]
  },
  {
   "cell_type": "code",
   "execution_count": 12,
   "id": "0257da0b-f5c2-4e73-909b-a04182d80956",
   "metadata": {},
   "outputs": [
    {
     "data": {
      "text/html": [
       "\n",
       "            <style>\n",
       "                .geemap-dark {\n",
       "                    --jp-widgets-color: white;\n",
       "                    --jp-widgets-label-color: white;\n",
       "                    --jp-ui-font-color1: white;\n",
       "                    --jp-layout-color2: #454545;\n",
       "                    background-color: #383838;\n",
       "                }\n",
       "                    \n",
       "                .geemap-dark .jupyter-button {\n",
       "                    --jp-layout-color3: #383838;\n",
       "                }\n",
       "                \n",
       "                .geemap-colab {\n",
       "                    background-color: var(--colab-primary-surface-color, white);\n",
       "                }\n",
       "                    \n",
       "                .geemap-colab .jupyter-button {\n",
       "                    --jp-layout-color3: var(--colab-primary-surface-color, white);\n",
       "                }\n",
       "            </style>\n",
       "            "
      ],
      "text/plain": [
       "<IPython.core.display.HTML object>"
      ]
     },
     "metadata": {},
     "output_type": "display_data"
    },
    {
     "data": {
      "application/vnd.jupyter.widget-view+json": {
       "model_id": "871bad77df86469586dcac57ea9bfcfd",
       "version_major": 2,
       "version_minor": 0
      },
      "text/plain": [
       "Map(center=[51.05286656613139, 10.372108688819537], controls=(WidgetControl(options=['position', 'transparent_…"
      ]
     },
     "execution_count": 12,
     "metadata": {},
     "output_type": "execute_result"
    }
   ],
   "source": [
    "# Load the SRTM elevation dataset\n",
    "dataset = ee.Image('USGS/SRTMGL1_003')\n",
    "elevation = dataset.select('elevation')\n",
    "\n",
    "# Calculate slope\n",
    "slope = ee.Terrain.slope(elevation)\n",
    "\n",
    "# Clip the slope image to the boundary of Germany\n",
    "slope_germany = slope.clip(germany_boundary)\n",
    "\n",
    "elevation_germany = elevation.clip(germany_boundary)\n",
    "# Set the center of the map\n",
    "Map.centerObject(germany_boundary, 6)\n",
    "\n",
    "# Add the clipped slope layer to the map\n",
    "Map.addLayer(slope_germany, {\"min\":0.04983431339263916,\"max\":2.441881356239319,'palette':['#a50026','#d73027','#f46d43','#fdae61','#fee08b','#d9ef8b','#a6d96a','#66bd63','#1a9850','#006837']}, 'Slope (Clipped to Germany)')\n",
    "\n",
    "# Add the clipped elevation layer to the map\n",
    "Map.addLayer(elevation_germany, {'min': 0, 'max': 60,'palette':['#ffffff','#f0f0f0','#d9d9d9','#bdbdbd','#969696','#737373','#525252','#252525','#000000']}, 'Elevation (Clipped to Germany)')\n",
    "Map"
   ]
  },
  {
   "cell_type": "markdown",
   "id": "35ff1c05-b422-41b2-a22e-0517d69a7f32",
   "metadata": {},
   "source": [
    "## Surface Water Bodies"
   ]
  },
  {
   "cell_type": "markdown",
   "id": "016f3af0-3abc-4431-a241-1531b4232d95",
   "metadata": {},
   "source": [
    "### Displaying Global Surface Water Occurrence in Germany"
   ]
  },
  {
   "cell_type": "markdown",
   "id": "eca2e93e-3966-4f93-b3bc-110ba4a23917",
   "metadata": {},
   "source": [
    "This code displays the occurrence of surface water in Germany using the Global Surface Water dataset. The interactive map is centered on Germany and allows toggling of layers for visualization."
   ]
  },
  {
   "cell_type": "code",
   "execution_count": 13,
   "id": "0d0068f0-75df-4fe9-91ba-0a10ea5850a9",
   "metadata": {},
   "outputs": [
    {
     "data": {
      "text/html": [
       "\n",
       "            <style>\n",
       "                .geemap-dark {\n",
       "                    --jp-widgets-color: white;\n",
       "                    --jp-widgets-label-color: white;\n",
       "                    --jp-ui-font-color1: white;\n",
       "                    --jp-layout-color2: #454545;\n",
       "                    background-color: #383838;\n",
       "                }\n",
       "                    \n",
       "                .geemap-dark .jupyter-button {\n",
       "                    --jp-layout-color3: #383838;\n",
       "                }\n",
       "                \n",
       "                .geemap-colab {\n",
       "                    background-color: var(--colab-primary-surface-color, white);\n",
       "                }\n",
       "                    \n",
       "                .geemap-colab .jupyter-button {\n",
       "                    --jp-layout-color3: var(--colab-primary-surface-color, white);\n",
       "                }\n",
       "            </style>\n",
       "            "
      ],
      "text/plain": [
       "<IPython.core.display.HTML object>"
      ]
     },
     "metadata": {},
     "output_type": "display_data"
    }
   ],
   "source": [
    "waterDataset = ee.Image('JRC/GSW1_4/GlobalSurfaceWater')\n",
    "water = waterDataset.select('occurrence').clip(germany_boundary)\n",
    "\n",
    "# Add the water layer to the map\n",
    "# Map = geemap.Map(center=[52.5200, 13.4050], zoom=6)\n",
    "# # # Map.addLayer(water, {'min': 0.0, 'max': 100.0, 'palette': ['blue']}, 'water')\n",
    "# # Map.addLayerControl()\n",
    "# Map"
   ]
  },
  {
   "cell_type": "markdown",
   "id": "a3661d1d-8497-40ac-b839-c9277b13237e",
   "metadata": {},
   "source": [
    "### Identifying Permanent Water Bodies in Germany"
   ]
  },
  {
   "cell_type": "markdown",
   "id": "539cc34e-f271-484f-8a5e-aa198b40368e",
   "metadata": {},
   "source": [
    "This code segment identifies permanent water bodies in Germany by creating a binary image where water occurrence is greater than 80. The resulting permanent water layer is then displayed on an interactive map centered on Germany.\n",
    "\n",
    "\n"
   ]
  },
  {
   "cell_type": "code",
   "execution_count": 14,
   "id": "b15454f1-b906-45ab-b7ea-0291391bdf51",
   "metadata": {},
   "outputs": [
    {
     "data": {
      "text/html": [
       "\n",
       "            <style>\n",
       "                .geemap-dark {\n",
       "                    --jp-widgets-color: white;\n",
       "                    --jp-widgets-label-color: white;\n",
       "                    --jp-ui-font-color1: white;\n",
       "                    --jp-layout-color2: #454545;\n",
       "                    background-color: #383838;\n",
       "                }\n",
       "                    \n",
       "                .geemap-dark .jupyter-button {\n",
       "                    --jp-layout-color3: #383838;\n",
       "                }\n",
       "                \n",
       "                .geemap-colab {\n",
       "                    background-color: var(--colab-primary-surface-color, white);\n",
       "                }\n",
       "                    \n",
       "                .geemap-colab .jupyter-button {\n",
       "                    --jp-layout-color3: var(--colab-primary-surface-color, white);\n",
       "                }\n",
       "            </style>\n",
       "            "
      ],
      "text/plain": [
       "<IPython.core.display.HTML object>"
      ]
     },
     "metadata": {},
     "output_type": "display_data"
    }
   ],
   "source": [
    "# Create a binary image where water occurrence is greater than 80\n",
    "permanentWater = water.gt(80)\n",
    "\n",
    "# Mask the permanent water layer\n",
    "permanentWater_masked = permanentWater.selfMask()\n",
    "\n",
    "# Add the permanent water layer to the map\n",
    "# Map = geemap.Map(center=[52.5200, 13.4050], zoom=6)\n",
    "Map.addLayer(permanentWater_masked, {'palette': ['blue']}, 'Permanent water')\n",
    "# Map.addLayerControl()\n",
    "# Map"
   ]
  },
  {
   "cell_type": "markdown",
   "id": "0e3453a8-b9f1-4e6b-9582-a19b942ecf9b",
   "metadata": {},
   "source": [
    "### Visualizing Distance to Permanent Water Bodies in Germany"
   ]
  },
  {
   "cell_type": "markdown",
   "id": "0c8e4da0-36c4-4221-9700-48f6ff37bbfa",
   "metadata": {},
   "source": [
    "This code calculates the distance to permanent water bodies in Germany and visualizes it on an interactive map. The distance is normalized and displayed with a color palette representing different distance intervals."
   ]
  },
  {
   "cell_type": "code",
   "execution_count": 15,
   "id": "65241119-8dc3-4b76-94cd-3b16f8328a73",
   "metadata": {},
   "outputs": [
    {
     "data": {
      "text/html": [
       "\n",
       "            <style>\n",
       "                .geemap-dark {\n",
       "                    --jp-widgets-color: white;\n",
       "                    --jp-widgets-label-color: white;\n",
       "                    --jp-ui-font-color1: white;\n",
       "                    --jp-layout-color2: #454545;\n",
       "                    background-color: #383838;\n",
       "                }\n",
       "                    \n",
       "                .geemap-dark .jupyter-button {\n",
       "                    --jp-layout-color3: #383838;\n",
       "                }\n",
       "                \n",
       "                .geemap-colab {\n",
       "                    background-color: var(--colab-primary-surface-color, white);\n",
       "                }\n",
       "                    \n",
       "                .geemap-colab .jupyter-button {\n",
       "                    --jp-layout-color3: var(--colab-primary-surface-color, white);\n",
       "                }\n",
       "            </style>\n",
       "            "
      ],
      "text/plain": [
       "<IPython.core.display.HTML object>"
      ]
     },
     "metadata": {},
     "output_type": "display_data"
    }
   ],
   "source": [
    "distance = permanentWater.fastDistanceTransform().divide(30).clip(germany_boundary)\n",
    "\n",
    "# Add the distance layer to the map\n",
    "# Map = geemap.Map(center=[52.5200, 13.4050], zoom=6)\n",
    "# Map.addLayer(distance, {'palette': ['#f0f9e8','#ccebc5','#a8ddb5','#7bccc4','#43a2ca','#0868ac']}, 'Distance')\n",
    "# Map.addLayerControl()\n",
    "# Map"
   ]
  },
  {
   "cell_type": "markdown",
   "id": "49cc8a9a-a2e4-45e4-8e75-4a5cdfa2c911",
   "metadata": {},
   "source": [
    "### Visualizing Distance to Permanent Water Bodies (Excluding NoData Areas)"
   ]
  },
  {
   "cell_type": "markdown",
   "id": "4a30c42b-0d52-4035-a1f4-fe305394facd",
   "metadata": {},
   "source": [
    "This code updates the mask of the distance layer to exclude NoData areas and visualizes the distance to permanent water bodies accordingly on an interactive map centered on Germany."
   ]
  },
  {
   "cell_type": "code",
   "execution_count": 16,
   "id": "f8849aa3-6277-4518-b715-1c5ce316a401",
   "metadata": {},
   "outputs": [
    {
     "data": {
      "text/html": [
       "\n",
       "            <style>\n",
       "                .geemap-dark {\n",
       "                    --jp-widgets-color: white;\n",
       "                    --jp-widgets-label-color: white;\n",
       "                    --jp-ui-font-color1: white;\n",
       "                    --jp-layout-color2: #454545;\n",
       "                    background-color: #383838;\n",
       "                }\n",
       "                    \n",
       "                .geemap-dark .jupyter-button {\n",
       "                    --jp-layout-color3: #383838;\n",
       "                }\n",
       "                \n",
       "                .geemap-colab {\n",
       "                    background-color: var(--colab-primary-surface-color, white);\n",
       "                }\n",
       "                    \n",
       "                .geemap-colab .jupyter-button {\n",
       "                    --jp-layout-color3: var(--colab-primary-surface-color, white);\n",
       "                }\n",
       "            </style>\n",
       "            "
      ],
      "text/plain": [
       "<IPython.core.display.HTML object>"
      ]
     },
     "metadata": {},
     "output_type": "display_data"
    },
    {
     "data": {
      "application/vnd.jupyter.widget-view+json": {
       "model_id": "871bad77df86469586dcac57ea9bfcfd",
       "version_major": 2,
       "version_minor": 0
      },
      "text/plain": [
       "Map(bottom=3121.0, center=[48.777912755501845, 10.393066406250002], controls=(WidgetControl(options=['position…"
      ]
     },
     "execution_count": 16,
     "metadata": {},
     "output_type": "execute_result"
    }
   ],
   "source": [
    "onlydistance = distance.updateMask(distance.neq(0).And(dataset.mask()))\n",
    "\n",
    "# Add the only distance layer to the map\n",
    "# Map = geemap.Map(center=[52.5200, 13.4050], zoom=6)\n",
    "Map.addLayer(onlydistance,{\"min\":0.24199999280273915,\"max\":10.257999563887715,\"palette\":[\"f0f9e8\",\"ccebc5\",\"a8ddb5\",\"7bccc4\",\"43a2ca\",\"0868ac\"]}, 'Only Distance')\n",
    "# Map.addLayerControl()\n",
    "Map"
   ]
  },
  {
   "cell_type": "markdown",
   "id": "0c75bf5c-c555-44b2-bb33-6db4a9dbf835",
   "metadata": {},
   "source": [
    "## Terrain Position Index (TPI) in Germany"
   ]
  },
  {
   "cell_type": "markdown",
   "id": "103c6db9-1c4e-474b-9c7c-30e38a763f5d",
   "metadata": {},
   "source": [
    "This code calculates the Terrain Position Index (TPI) and visualizes it in Germany. TPI represents the difference between the elevation at a pixel and the average elevation of its surroundings. The resulting TPI layer is clipped to Germany's boundary and displayed on an interactive map.\n",
    "\n",
    "Low TPI values: These typically represent depressions or areas of lower elevation compared to their surroundings. In other words, pixels with low TPI values indicate that the elevation at that point is below the average elevation of its surroundings. Low TPI values might correspond to valleys, depressions, or areas of relatively flat terrain.\n",
    "\n",
    "High TPI values: Conversely, high TPI values indicate that the elevation at a pixel is higher than the average elevation of its surroundings. These areas may represent hills, ridges, cliffs, or other elevated features in the terrain.\n",
    "\n"
   ]
  },
  {
   "cell_type": "code",
   "execution_count": 17,
   "id": "96faf147-8795-470f-a99a-08f837002e08",
   "metadata": {},
   "outputs": [
    {
     "data": {
      "text/html": [
       "\n",
       "            <style>\n",
       "                .geemap-dark {\n",
       "                    --jp-widgets-color: white;\n",
       "                    --jp-widgets-label-color: white;\n",
       "                    --jp-ui-font-color1: white;\n",
       "                    --jp-layout-color2: #454545;\n",
       "                    background-color: #383838;\n",
       "                }\n",
       "                    \n",
       "                .geemap-dark .jupyter-button {\n",
       "                    --jp-layout-color3: #383838;\n",
       "                }\n",
       "                \n",
       "                .geemap-colab {\n",
       "                    background-color: var(--colab-primary-surface-color, white);\n",
       "                }\n",
       "                    \n",
       "                .geemap-colab .jupyter-button {\n",
       "                    --jp-layout-color3: var(--colab-primary-surface-color, white);\n",
       "                }\n",
       "            </style>\n",
       "            "
      ],
      "text/plain": [
       "<IPython.core.display.HTML object>"
      ]
     },
     "metadata": {},
     "output_type": "display_data"
    },
    {
     "data": {
      "application/vnd.jupyter.widget-view+json": {
       "model_id": "871bad77df86469586dcac57ea9bfcfd",
       "version_major": 2,
       "version_minor": 0
      },
      "text/plain": [
       "Map(bottom=3121.0, center=[48.777912755501845, 10.393066406250002], controls=(WidgetControl(options=['position…"
      ]
     },
     "execution_count": 17,
     "metadata": {},
     "output_type": "execute_result"
    }
   ],
   "source": [
    "TPI = elevation.subtract(elevation.focal_mean(5)).rename('TPI')\n",
    "\n",
    "# Clip the TPI layer to Germany's boundary\n",
    "TPI_clipped = TPI.clip(germany_boundary)\n",
    "\n",
    "# Visualization parameters for TPI\n",
    "TPIVis = {\n",
    "    'min': -50,\n",
    "    'max': 50,\n",
    "    'palette': ['blue', 'white', 'green']\n",
    "}\n",
    "\n",
    "# Add the TPI layer to the map\n",
    "Map.addLayer(TPI_clipped, TPIVis, 'TPI (Clipped to Germany)')\n",
    "Map"
   ]
  },
  {
   "cell_type": "markdown",
   "id": "af28d7dd-047c-4d48-a597-e81d206ad22d",
   "metadata": {},
   "source": [
    "## Flood Database"
   ]
  },
  {
   "cell_type": "markdown",
   "id": "ee154d2c-3361-46fe-b051-08e144032a02",
   "metadata": {},
   "source": [
    "### Satellite-Observed Historical Flood Plain in Germany"
   ]
  },
  {
   "cell_type": "markdown",
   "id": "5087e911-a73e-41c9-9703-094f5d42441a",
   "metadata": {},
   "source": [
    "This code retrieves data from the Global Flood Database (GFD) MODIS events to generate a satellite-observed historical flood plain. The resulting flood plain layer is clipped to Germany's boundary and displayed on an interactive map centered on Germany.\n",
    "\n",
    "\n"
   ]
  },
  {
   "cell_type": "markdown",
   "id": "6ed6dc5e-6261-4e67-980d-6c3ec9c839e7",
   "metadata": {},
   "source": [
    "# Current Precipitation Data (GPM)"
   ]
  },
  {
   "cell_type": "markdown",
   "id": "57a9289f-974a-4cb9-9a63-b1a469c70e8f",
   "metadata": {},
   "source": [
    "The dataset 'NASA/GPM_L3/IMERG_V06' represents NASA's Global Precipitation Measurement (GPM) Level 3 Integrated Multi-satellitE Retrievals for GPM (IMERG) Version 06. It provides calibrated precipitation data and is selected for the 'precipitationCal' variable. This dataset is valuable for analyzing global precipitation patterns and is widely used in climate studies, hydrology, and weather forecasting."
   ]
  },
  {
   "cell_type": "code",
   "execution_count": 18,
   "id": "ddff8746-017d-47b2-99a7-b09d1c060c64",
   "metadata": {},
   "outputs": [
    {
     "data": {
      "text/html": [
       "\n",
       "            <style>\n",
       "                .geemap-dark {\n",
       "                    --jp-widgets-color: white;\n",
       "                    --jp-widgets-label-color: white;\n",
       "                    --jp-ui-font-color1: white;\n",
       "                    --jp-layout-color2: #454545;\n",
       "                    background-color: #383838;\n",
       "                }\n",
       "                    \n",
       "                .geemap-dark .jupyter-button {\n",
       "                    --jp-layout-color3: #383838;\n",
       "                }\n",
       "                \n",
       "                .geemap-colab {\n",
       "                    background-color: var(--colab-primary-surface-color, white);\n",
       "                }\n",
       "                    \n",
       "                .geemap-colab .jupyter-button {\n",
       "                    --jp-layout-color3: var(--colab-primary-surface-color, white);\n",
       "                }\n",
       "            </style>\n",
       "            "
      ],
      "text/plain": [
       "<IPython.core.display.HTML object>"
      ]
     },
     "metadata": {},
     "output_type": "display_data"
    }
   ],
   "source": [
    "# Set start and end year\n",
    "startyear = 2000\n",
    "endyear = 2018\n",
    "\n",
    "# Make a date object\n",
    "startdate = ee.Date.fromYMD(startyear, 1, 1)\n",
    "enddate = ee.Date.fromYMD(endyear + 1, 1, 1)\n",
    "\n",
    "# Make a list with years\n",
    "years = ee.List.sequence(startyear, endyear)\n",
    "\n",
    "# Load the dataset\n",
    "dataset = ee.ImageCollection('NASA/GPM_L3/IMERG_V06').select('precipitationCal')"
   ]
  },
  {
   "cell_type": "code",
   "execution_count": 19,
   "id": "fee5883b-2fff-41a9-a8de-f9544da91edc",
   "metadata": {},
   "outputs": [
    {
     "data": {
      "text/html": [
       "\n",
       "            <style>\n",
       "                .geemap-dark {\n",
       "                    --jp-widgets-color: white;\n",
       "                    --jp-widgets-label-color: white;\n",
       "                    --jp-ui-font-color1: white;\n",
       "                    --jp-layout-color2: #454545;\n",
       "                    background-color: #383838;\n",
       "                }\n",
       "                    \n",
       "                .geemap-dark .jupyter-button {\n",
       "                    --jp-layout-color3: #383838;\n",
       "                }\n",
       "                \n",
       "                .geemap-colab {\n",
       "                    background-color: var(--colab-primary-surface-color, white);\n",
       "                }\n",
       "                    \n",
       "                .geemap-colab .jupyter-button {\n",
       "                    --jp-layout-color3: var(--colab-primary-surface-color, white);\n",
       "                }\n",
       "            </style>\n",
       "            "
      ],
      "text/plain": [
       "<IPython.core.display.HTML object>"
      ]
     },
     "metadata": {},
     "output_type": "display_data"
    }
   ],
   "source": [
    "# Define a function to calculate annual precipitation\n",
    "def calculate_annual_precip(year):\n",
    "    start = ee.Date.fromYMD(year, 1, 1)\n",
    "    end = ee.Date.fromYMD(year, 12, 31)\n",
    "    annual = dataset.filter(ee.Filter.date(start, end)).mean()\n",
    "    return annual.set('year', year).set('system:time_start', ee.Date.fromYMD(year, 1, 1))"
   ]
  },
  {
   "cell_type": "code",
   "execution_count": 21,
   "id": "f5ca95a8-5cc4-4914-a9e1-dbe4e4bde642",
   "metadata": {},
   "outputs": [
    {
     "data": {
      "text/html": [
       "\n",
       "            <style>\n",
       "                .geemap-dark {\n",
       "                    --jp-widgets-color: white;\n",
       "                    --jp-widgets-label-color: white;\n",
       "                    --jp-ui-font-color1: white;\n",
       "                    --jp-layout-color2: #454545;\n",
       "                    background-color: #383838;\n",
       "                }\n",
       "                    \n",
       "                .geemap-dark .jupyter-button {\n",
       "                    --jp-layout-color3: #383838;\n",
       "                }\n",
       "                \n",
       "                .geemap-colab {\n",
       "                    background-color: var(--colab-primary-surface-color, white);\n",
       "                }\n",
       "                    \n",
       "                .geemap-colab .jupyter-button {\n",
       "                    --jp-layout-color3: var(--colab-primary-surface-color, white);\n",
       "                }\n",
       "            </style>\n",
       "            "
      ],
      "text/plain": [
       "<IPython.core.display.HTML object>"
      ]
     },
     "metadata": {},
     "output_type": "display_data"
    }
   ],
   "source": [
    "# Map over the years to create an ImageCollection of annual precipitation images\n",
    "annualPrecip = ee.ImageCollection.fromImages(years.map(calculate_annual_precip))\n",
    "\n",
    "# Convert the ImageCollection from the mapping to a single ImageCollection\n",
    "annualPrecipCollectionIC = ee.ImageCollection(annualPrecip)\n",
    "\n",
    "# Merge the ImageCollection into a single multiband image\n",
    "annualPrecipImage = annualPrecipCollectionIC.toBands()\n",
    "\n",
    "# Display the annual precipitation image\n",
    "Map.addLayer(annualPrecipImage.clip(germany_boundary), \n",
    "             {'palette': ['#fff7fb','#ece7f2','#d0d1e6','#a6bddb','#74a9cf','#3690c0','#0570b0','#045a8d','#023858'], \n",
    "              'bands': '0_precipitationCal', \n",
    "              'min': 0.06883645370602608, \n",
    "              'max': 0.14987329080700873}, \n",
    "             'Annual Precipitation 1981-2021')"
   ]
  },
  {
   "cell_type": "code",
   "execution_count": 22,
   "id": "58c28c35-0a1a-4d41-8cf1-c53a4831b3b2",
   "metadata": {},
   "outputs": [
    {
     "data": {
      "text/html": [
       "\n",
       "            <style>\n",
       "                .geemap-dark {\n",
       "                    --jp-widgets-color: white;\n",
       "                    --jp-widgets-label-color: white;\n",
       "                    --jp-ui-font-color1: white;\n",
       "                    --jp-layout-color2: #454545;\n",
       "                    background-color: #383838;\n",
       "                }\n",
       "                    \n",
       "                .geemap-dark .jupyter-button {\n",
       "                    --jp-layout-color3: #383838;\n",
       "                }\n",
       "                \n",
       "                .geemap-colab {\n",
       "                    background-color: var(--colab-primary-surface-color, white);\n",
       "                }\n",
       "                    \n",
       "                .geemap-colab .jupyter-button {\n",
       "                    --jp-layout-color3: var(--colab-primary-surface-color, white);\n",
       "                }\n",
       "            </style>\n",
       "            "
      ],
      "text/plain": [
       "<IPython.core.display.HTML object>"
      ]
     },
     "metadata": {},
     "output_type": "display_data"
    },
    {
     "data": {
      "application/vnd.jupyter.widget-view+json": {
       "model_id": "871bad77df86469586dcac57ea9bfcfd",
       "version_major": 2,
       "version_minor": 0
      },
      "text/plain": [
       "Map(bottom=3121.0, center=[48.777912755501845, 10.393066406250002], controls=(WidgetControl(options=['position…"
      ]
     },
     "execution_count": 22,
     "metadata": {},
     "output_type": "execute_result"
    }
   ],
   "source": [
    "Map"
   ]
  },
  {
   "cell_type": "markdown",
   "id": "24ba4844-8754-460a-bb58-f214db181372",
   "metadata": {},
   "source": [
    "# Current Temperature Data (ERA5)"
   ]
  },
  {
   "cell_type": "code",
   "execution_count": 23,
   "id": "c0f5f24c-ebd8-4614-ac7d-d8ad5f8b491e",
   "metadata": {},
   "outputs": [
    {
     "data": {
      "text/html": [
       "\n",
       "            <style>\n",
       "                .geemap-dark {\n",
       "                    --jp-widgets-color: white;\n",
       "                    --jp-widgets-label-color: white;\n",
       "                    --jp-ui-font-color1: white;\n",
       "                    --jp-layout-color2: #454545;\n",
       "                    background-color: #383838;\n",
       "                }\n",
       "                    \n",
       "                .geemap-dark .jupyter-button {\n",
       "                    --jp-layout-color3: #383838;\n",
       "                }\n",
       "                \n",
       "                .geemap-colab {\n",
       "                    background-color: var(--colab-primary-surface-color, white);\n",
       "                }\n",
       "                    \n",
       "                .geemap-colab .jupyter-button {\n",
       "                    --jp-layout-color3: var(--colab-primary-surface-color, white);\n",
       "                }\n",
       "            </style>\n",
       "            "
      ],
      "text/plain": [
       "<IPython.core.display.HTML object>"
      ]
     },
     "metadata": {},
     "output_type": "display_data"
    }
   ],
   "source": [
    "# Set start and end year\n",
    "startyear = 2000\n",
    "endyear = 2018\n",
    "\n",
    "# Make a date object\n",
    "startdate = ee.Date.fromYMD(startyear, 1, 1)\n",
    "enddate = ee.Date.fromYMD(endyear + 1, 1, 1)\n",
    "\n",
    "# Make a list with years\n",
    "years = ee.List.sequence(startyear, endyear)\n",
    "\n",
    "# Load the dataset\n",
    "dataset = ee.ImageCollection('ECMWF/ERA5_LAND/DAILY_AGGR').select('temperature_2m')"
   ]
  },
  {
   "cell_type": "code",
   "execution_count": 24,
   "id": "31b7a1d0-689d-48fa-b14d-69f9487db9e6",
   "metadata": {},
   "outputs": [
    {
     "data": {
      "text/html": [
       "\n",
       "            <style>\n",
       "                .geemap-dark {\n",
       "                    --jp-widgets-color: white;\n",
       "                    --jp-widgets-label-color: white;\n",
       "                    --jp-ui-font-color1: white;\n",
       "                    --jp-layout-color2: #454545;\n",
       "                    background-color: #383838;\n",
       "                }\n",
       "                    \n",
       "                .geemap-dark .jupyter-button {\n",
       "                    --jp-layout-color3: #383838;\n",
       "                }\n",
       "                \n",
       "                .geemap-colab {\n",
       "                    background-color: var(--colab-primary-surface-color, white);\n",
       "                }\n",
       "                    \n",
       "                .geemap-colab .jupyter-button {\n",
       "                    --jp-layout-color3: var(--colab-primary-surface-color, white);\n",
       "                }\n",
       "            </style>\n",
       "            "
      ],
      "text/plain": [
       "<IPython.core.display.HTML object>"
      ]
     },
     "metadata": {},
     "output_type": "display_data"
    }
   ],
   "source": [
    "# Function to calculate annual temperature\n",
    "def calculate_annual_temp(year):\n",
    "    start_date = ee.Date.fromYMD(year, 1, 1)\n",
    "    end_date = ee.Date.fromYMD(year, 12, 31)\n",
    "    annual = dataset.filter(ee.Filter.date(start_date, end_date)).mean()\n",
    "    return annual.set('year', year).set('system:time_start', ee.Date.fromYMD(year, 1, 1))"
   ]
  },
  {
   "cell_type": "code",
   "execution_count": 25,
   "id": "28e56049-dd91-482f-a0ce-577f818e0b21",
   "metadata": {},
   "outputs": [
    {
     "data": {
      "text/html": [
       "\n",
       "            <style>\n",
       "                .geemap-dark {\n",
       "                    --jp-widgets-color: white;\n",
       "                    --jp-widgets-label-color: white;\n",
       "                    --jp-ui-font-color1: white;\n",
       "                    --jp-layout-color2: #454545;\n",
       "                    background-color: #383838;\n",
       "                }\n",
       "                    \n",
       "                .geemap-dark .jupyter-button {\n",
       "                    --jp-layout-color3: #383838;\n",
       "                }\n",
       "                \n",
       "                .geemap-colab {\n",
       "                    background-color: var(--colab-primary-surface-color, white);\n",
       "                }\n",
       "                    \n",
       "                .geemap-colab .jupyter-button {\n",
       "                    --jp-layout-color3: var(--colab-primary-surface-color, white);\n",
       "                }\n",
       "            </style>\n",
       "            "
      ],
      "text/plain": [
       "<IPython.core.display.HTML object>"
      ]
     },
     "metadata": {},
     "output_type": "display_data"
    }
   ],
   "source": [
    "# Map over years to calculate annual temperature\n",
    "annualtemp = ee.ImageCollection.fromImages(years.map(calculate_annual_temp))\n",
    "\n",
    "# Convert the ImageCollection from the mapping to a single ImageCollection\n",
    "annualtempCollectionIC = ee.ImageCollection(annualtemp)\n",
    "\n",
    "# Merge the ImageCollection into a single multiband image\n",
    "annualtempImage = annualtempCollectionIC.toBands()\n",
    "\n",
    "# Display the annual temperature image\n",
    "Map.addLayer(annualtempImage.clip(germany_boundary), {'palette': ['#d73027','#f46d43','#fdae61','#fee08b','#ffffbf','#d9ef8b','#a6d96a','#66bd63','#1a9850'], 'bands': '0_temperature_2m', 'min': 282.186, 'max': 283.820}, 'Annual Temperature 2000-2018')"
   ]
  },
  {
   "cell_type": "code",
   "execution_count": 26,
   "id": "c76f72e0-352c-4d4f-9374-64d2495d6662",
   "metadata": {},
   "outputs": [
    {
     "data": {
      "text/html": [
       "\n",
       "            <style>\n",
       "                .geemap-dark {\n",
       "                    --jp-widgets-color: white;\n",
       "                    --jp-widgets-label-color: white;\n",
       "                    --jp-ui-font-color1: white;\n",
       "                    --jp-layout-color2: #454545;\n",
       "                    background-color: #383838;\n",
       "                }\n",
       "                    \n",
       "                .geemap-dark .jupyter-button {\n",
       "                    --jp-layout-color3: #383838;\n",
       "                }\n",
       "                \n",
       "                .geemap-colab {\n",
       "                    background-color: var(--colab-primary-surface-color, white);\n",
       "                }\n",
       "                    \n",
       "                .geemap-colab .jupyter-button {\n",
       "                    --jp-layout-color3: var(--colab-primary-surface-color, white);\n",
       "                }\n",
       "            </style>\n",
       "            "
      ],
      "text/plain": [
       "<IPython.core.display.HTML object>"
      ]
     },
     "metadata": {},
     "output_type": "display_data"
    },
    {
     "data": {
      "application/vnd.jupyter.widget-view+json": {
       "model_id": "871bad77df86469586dcac57ea9bfcfd",
       "version_major": 2,
       "version_minor": 0
      },
      "text/plain": [
       "Map(bottom=3121.0, center=[48.777912755501845, 10.393066406250002], controls=(WidgetControl(options=['position…"
      ]
     },
     "execution_count": 26,
     "metadata": {},
     "output_type": "execute_result"
    }
   ],
   "source": [
    "Map"
   ]
  },
  {
   "cell_type": "markdown",
   "id": "15bc9780-d676-42e5-940f-a7eb3a741875",
   "metadata": {},
   "source": [
    "# Future Temperature and Precipitation Data Analysis"
   ]
  },
  {
   "cell_type": "markdown",
   "id": "e5cc3a73-8184-4ce7-8ffb-37953bc3ee6e",
   "metadata": {},
   "source": [
    "Future temperature and precipitation data analysis from CMIP6 involves utilizing advanced \n",
    "climate models to project temperature trends and precipitation patterns under various emissions \n",
    "scenarios. This analysis provides critical insights into the potential impacts of climate change, \n",
    "aiding in informed decision-making for adaptation and mitigation strategies. Temperature and \n",
    "precipitation data are widely available as open source from global climate models for historical \n",
    "time periods as well as future time frames. The data is processed using Google earth engine Javascipt API and calculated Mean for every year."
   ]
  },
  {
   "cell_type": "markdown",
   "id": "917300f8-4a67-49ee-a12f-fbc12341b3cb",
   "metadata": {},
   "source": [
    "## Precipitation (2024-2100)"
   ]
  },
  {
   "cell_type": "code",
   "execution_count": 27,
   "id": "6db8a7fe-8db2-4864-abbf-460a65705f62",
   "metadata": {},
   "outputs": [
    {
     "data": {
      "text/html": [
       "\n",
       "            <style>\n",
       "                .geemap-dark {\n",
       "                    --jp-widgets-color: white;\n",
       "                    --jp-widgets-label-color: white;\n",
       "                    --jp-ui-font-color1: white;\n",
       "                    --jp-layout-color2: #454545;\n",
       "                    background-color: #383838;\n",
       "                }\n",
       "                    \n",
       "                .geemap-dark .jupyter-button {\n",
       "                    --jp-layout-color3: #383838;\n",
       "                }\n",
       "                \n",
       "                .geemap-colab {\n",
       "                    background-color: var(--colab-primary-surface-color, white);\n",
       "                }\n",
       "                    \n",
       "                .geemap-colab .jupyter-button {\n",
       "                    --jp-layout-color3: var(--colab-primary-surface-color, white);\n",
       "                }\n",
       "            </style>\n",
       "            "
      ],
      "text/plain": [
       "<IPython.core.display.HTML object>"
      ]
     },
     "metadata": {},
     "output_type": "display_data"
    }
   ],
   "source": [
    "# Set start and end year\n",
    "startyear = 2024\n",
    "endyear = 2100\n",
    "\n",
    "# Make a date object\n",
    "startdate = ee.Date.fromYMD(startyear, 1, 1)\n",
    "enddate = ee.Date.fromYMD(endyear + 1, 1, 1)\n",
    "\n",
    "# Make a list with years\n",
    "years = ee.List.sequence(startyear, endyear)\n",
    "\n",
    "# Load the dataset\n",
    "dataset = ee.ImageCollection('NASA/GDDP-CMIP6') \\\n",
    "                  .filter(ee.Filter.eq('model', 'ACCESS-CM2')) \\\n",
    "                  .select('pr')"
   ]
  },
  {
   "cell_type": "code",
   "execution_count": 28,
   "id": "a740e96d-c637-4a3f-b767-4a3795a2d367",
   "metadata": {},
   "outputs": [
    {
     "data": {
      "text/html": [
       "\n",
       "            <style>\n",
       "                .geemap-dark {\n",
       "                    --jp-widgets-color: white;\n",
       "                    --jp-widgets-label-color: white;\n",
       "                    --jp-ui-font-color1: white;\n",
       "                    --jp-layout-color2: #454545;\n",
       "                    background-color: #383838;\n",
       "                }\n",
       "                    \n",
       "                .geemap-dark .jupyter-button {\n",
       "                    --jp-layout-color3: #383838;\n",
       "                }\n",
       "                \n",
       "                .geemap-colab {\n",
       "                    background-color: var(--colab-primary-surface-color, white);\n",
       "                }\n",
       "                    \n",
       "                .geemap-colab .jupyter-button {\n",
       "                    --jp-layout-color3: var(--colab-primary-surface-color, white);\n",
       "                }\n",
       "            </style>\n",
       "            "
      ],
      "text/plain": [
       "<IPython.core.display.HTML object>"
      ]
     },
     "metadata": {},
     "output_type": "display_data"
    }
   ],
   "source": [
    "def annual_precip(year):\n",
    "    annual = dataset \\\n",
    "        .filter(ee.Filter.calendarRange(year, year, 'year')) \\\n",
    "        .sum()\n",
    "    return annual \\\n",
    "        .set('year', year) \\\n",
    "        .set('system:time_start', ee.Date.fromYMD(year, 1, 1))\n",
    "\n",
    "annual_precip = ee.ImageCollection.fromImages(years.map(annual_precip))\n",
    "\n",
    "# Convert the ImageCollection from the mapping to a single ImageCollection\n",
    "annualPrecipCollectionIC = ee.ImageCollection(annual_precip)\n",
    "\n",
    "# Merge the ImageCollection into a single multiband image\n",
    "annualPrecipImage = annualPrecipCollectionIC.toBands()\n",
    "annualPrecipImageClipped = annualPrecipImage.clip(germany_boundary)\n",
    "\n",
    "# clipped_precip = annual_precip.map(lambda image: image.clip(germany_boundary))\n",
    "\n",
    "Map.addLayer(annualPrecipImageClipped, {}, 'Future Precipitation')"
   ]
  },
  {
   "cell_type": "code",
   "execution_count": 29,
   "id": "c7c65b55",
   "metadata": {},
   "outputs": [
    {
     "data": {
      "text/html": [
       "\n",
       "            <style>\n",
       "                .geemap-dark {\n",
       "                    --jp-widgets-color: white;\n",
       "                    --jp-widgets-label-color: white;\n",
       "                    --jp-ui-font-color1: white;\n",
       "                    --jp-layout-color2: #454545;\n",
       "                    background-color: #383838;\n",
       "                }\n",
       "                    \n",
       "                .geemap-dark .jupyter-button {\n",
       "                    --jp-layout-color3: #383838;\n",
       "                }\n",
       "                \n",
       "                .geemap-colab {\n",
       "                    background-color: var(--colab-primary-surface-color, white);\n",
       "                }\n",
       "                    \n",
       "                .geemap-colab .jupyter-button {\n",
       "                    --jp-layout-color3: var(--colab-primary-surface-color, white);\n",
       "                }\n",
       "            </style>\n",
       "            "
      ],
      "text/plain": [
       "<IPython.core.display.HTML object>"
      ]
     },
     "metadata": {},
     "output_type": "display_data"
    },
    {
     "data": {
      "application/vnd.jupyter.widget-view+json": {
       "model_id": "871bad77df86469586dcac57ea9bfcfd",
       "version_major": 2,
       "version_minor": 0
      },
      "text/plain": [
       "Map(bottom=3121.0, center=[48.777912755501845, 10.393066406250002], controls=(WidgetControl(options=['position…"
      ]
     },
     "execution_count": 29,
     "metadata": {},
     "output_type": "execute_result"
    }
   ],
   "source": [
    "Map"
   ]
  },
  {
   "cell_type": "markdown",
   "id": "fed57fd2-d613-414f-8145-1edd60a6be53",
   "metadata": {},
   "source": [
    "## Temperature (2024-2100)"
   ]
  },
  {
   "cell_type": "code",
   "execution_count": 30,
   "id": "fb65d81c-afb5-49e4-9bf1-7544dd380e20",
   "metadata": {},
   "outputs": [
    {
     "data": {
      "text/html": [
       "\n",
       "            <style>\n",
       "                .geemap-dark {\n",
       "                    --jp-widgets-color: white;\n",
       "                    --jp-widgets-label-color: white;\n",
       "                    --jp-ui-font-color1: white;\n",
       "                    --jp-layout-color2: #454545;\n",
       "                    background-color: #383838;\n",
       "                }\n",
       "                    \n",
       "                .geemap-dark .jupyter-button {\n",
       "                    --jp-layout-color3: #383838;\n",
       "                }\n",
       "                \n",
       "                .geemap-colab {\n",
       "                    background-color: var(--colab-primary-surface-color, white);\n",
       "                }\n",
       "                    \n",
       "                .geemap-colab .jupyter-button {\n",
       "                    --jp-layout-color3: var(--colab-primary-surface-color, white);\n",
       "                }\n",
       "            </style>\n",
       "            "
      ],
      "text/plain": [
       "<IPython.core.display.HTML object>"
      ]
     },
     "metadata": {},
     "output_type": "display_data"
    }
   ],
   "source": [
    "# Set start and end year\n",
    "startyear = 2024\n",
    "endyear = 2100\n",
    "\n",
    "# Make a date object\n",
    "startdate = ee.Date.fromYMD(startyear, 1, 1)\n",
    "enddate = ee.Date.fromYMD(endyear + 1, 1, 1)\n",
    "\n",
    "# Make a list with years\n",
    "years = ee.List.sequence(startyear, endyear)\n",
    "\n",
    "# Load the dataset\n",
    "dataset = ee.ImageCollection('NASA/GDDP-CMIP6') \\\n",
    "                  .filter(ee.Filter.eq('model', 'ACCESS-CM2')) \\\n",
    "                  .select('tas')"
   ]
  },
  {
   "cell_type": "code",
   "execution_count": 31,
   "id": "0abb9625",
   "metadata": {},
   "outputs": [
    {
     "data": {
      "text/html": [
       "\n",
       "            <style>\n",
       "                .geemap-dark {\n",
       "                    --jp-widgets-color: white;\n",
       "                    --jp-widgets-label-color: white;\n",
       "                    --jp-ui-font-color1: white;\n",
       "                    --jp-layout-color2: #454545;\n",
       "                    background-color: #383838;\n",
       "                }\n",
       "                    \n",
       "                .geemap-dark .jupyter-button {\n",
       "                    --jp-layout-color3: #383838;\n",
       "                }\n",
       "                \n",
       "                .geemap-colab {\n",
       "                    background-color: var(--colab-primary-surface-color, white);\n",
       "                }\n",
       "                    \n",
       "                .geemap-colab .jupyter-button {\n",
       "                    --jp-layout-color3: var(--colab-primary-surface-color, white);\n",
       "                }\n",
       "            </style>\n",
       "            "
      ],
      "text/plain": [
       "<IPython.core.display.HTML object>"
      ]
     },
     "metadata": {},
     "output_type": "display_data"
    }
   ],
   "source": [
    "def annual_temperature(year):\n",
    "    annual = dataset \\\n",
    "        .filter(ee.Filter.calendarRange(year, year, 'year')) \\\n",
    "        .mean()\n",
    "    annual = annual.subtract(273.15)\n",
    "    return annual \\\n",
    "        .set('year', year) \\\n",
    "        .set('system:time_start', ee.Date.fromYMD(year, 1, 1))\n",
    "\n",
    "future_annual_temperature = ee.ImageCollection.fromImages(years.map(annual_temperature))"
   ]
  },
  {
   "cell_type": "code",
   "execution_count": 32,
   "id": "236ee851",
   "metadata": {},
   "outputs": [
    {
     "data": {
      "text/html": [
       "\n",
       "            <style>\n",
       "                .geemap-dark {\n",
       "                    --jp-widgets-color: white;\n",
       "                    --jp-widgets-label-color: white;\n",
       "                    --jp-ui-font-color1: white;\n",
       "                    --jp-layout-color2: #454545;\n",
       "                    background-color: #383838;\n",
       "                }\n",
       "                    \n",
       "                .geemap-dark .jupyter-button {\n",
       "                    --jp-layout-color3: #383838;\n",
       "                }\n",
       "                \n",
       "                .geemap-colab {\n",
       "                    background-color: var(--colab-primary-surface-color, white);\n",
       "                }\n",
       "                    \n",
       "                .geemap-colab .jupyter-button {\n",
       "                    --jp-layout-color3: var(--colab-primary-surface-color, white);\n",
       "                }\n",
       "            </style>\n",
       "            "
      ],
      "text/plain": [
       "<IPython.core.display.HTML object>"
      ]
     },
     "metadata": {},
     "output_type": "display_data"
    }
   ],
   "source": [
    "# Convert the ImageCollection from the mapping to a single ImageCollection\n",
    "annualTemperatureCollectionIC = ee.ImageCollection(future_annual_temperature)\n",
    "\n",
    "# Merge the ImageCollection into a single multiband image\n",
    "annualTemperatureImage = annualTemperatureCollectionIC.toBands()\n",
    "annualTemperatureImageClipped = annualTemperatureImage.clip(germany_boundary)\n",
    "\n",
    "Map.addLayer(annualTemperatureImageClipped, {'palette': ['#ffffb2','#fed976','#feb24c','#fd8d3c','#f03b20','#bd0026'], \n",
    "              'bands': '0_tas', \n",
    "              'min': 280, \n",
    "              'max': 285}, 'Future Temperature')"
   ]
  },
  {
   "cell_type": "code",
   "execution_count": 33,
   "id": "024fc263-ccff-4cd8-a349-1ff7533a0f6d",
   "metadata": {},
   "outputs": [
    {
     "data": {
      "text/html": [
       "\n",
       "            <style>\n",
       "                .geemap-dark {\n",
       "                    --jp-widgets-color: white;\n",
       "                    --jp-widgets-label-color: white;\n",
       "                    --jp-ui-font-color1: white;\n",
       "                    --jp-layout-color2: #454545;\n",
       "                    background-color: #383838;\n",
       "                }\n",
       "                    \n",
       "                .geemap-dark .jupyter-button {\n",
       "                    --jp-layout-color3: #383838;\n",
       "                }\n",
       "                \n",
       "                .geemap-colab {\n",
       "                    background-color: var(--colab-primary-surface-color, white);\n",
       "                }\n",
       "                    \n",
       "                .geemap-colab .jupyter-button {\n",
       "                    --jp-layout-color3: var(--colab-primary-surface-color, white);\n",
       "                }\n",
       "            </style>\n",
       "            "
      ],
      "text/plain": [
       "<IPython.core.display.HTML object>"
      ]
     },
     "metadata": {},
     "output_type": "display_data"
    },
    {
     "data": {
      "application/vnd.jupyter.widget-view+json": {
       "model_id": "871bad77df86469586dcac57ea9bfcfd",
       "version_major": 2,
       "version_minor": 0
      },
      "text/plain": [
       "Map(bottom=3121.0, center=[48.777912755501845, 10.393066406250002], controls=(WidgetControl(options=['position…"
      ]
     },
     "execution_count": 33,
     "metadata": {},
     "output_type": "execute_result"
    }
   ],
   "source": [
    "Map"
   ]
  },
  {
   "cell_type": "markdown",
   "id": "e05e396e",
   "metadata": {},
   "source": [
    "# Global Flood Database"
   ]
  },
  {
   "cell_type": "code",
   "execution_count": 34,
   "id": "8a69b3d1",
   "metadata": {},
   "outputs": [
    {
     "data": {
      "text/html": [
       "\n",
       "            <style>\n",
       "                .geemap-dark {\n",
       "                    --jp-widgets-color: white;\n",
       "                    --jp-widgets-label-color: white;\n",
       "                    --jp-ui-font-color1: white;\n",
       "                    --jp-layout-color2: #454545;\n",
       "                    background-color: #383838;\n",
       "                }\n",
       "                    \n",
       "                .geemap-dark .jupyter-button {\n",
       "                    --jp-layout-color3: #383838;\n",
       "                }\n",
       "                \n",
       "                .geemap-colab {\n",
       "                    background-color: var(--colab-primary-surface-color, white);\n",
       "                }\n",
       "                    \n",
       "                .geemap-colab .jupyter-button {\n",
       "                    --jp-layout-color3: var(--colab-primary-surface-color, white);\n",
       "                }\n",
       "            </style>\n",
       "            "
      ],
      "text/plain": [
       "<IPython.core.display.HTML object>"
      ]
     },
     "metadata": {},
     "output_type": "display_data"
    }
   ],
   "source": [
    "# Set start and end year\n",
    "startyear = 2000\n",
    "endyear = 2018\n",
    "\n",
    "# Make a date object\n",
    "startdate = ee.Date.fromYMD(startyear, 1, 1)\n",
    "enddate = ee.Date.fromYMD(endyear + 1, 1, 1)\n",
    "\n",
    "# Make a list with years\n",
    "years = ee.List.sequence(startyear, endyear)\n",
    "\n",
    "# Load the dataset\n",
    "dataset = ee.ImageCollection('GLOBAL_FLOOD_DB/MODIS_EVENTS/V1').select('flooded')"
   ]
  },
  {
   "cell_type": "code",
   "execution_count": 35,
   "id": "4d9a2b09-d79d-4d7a-976b-f7b5f7decb26",
   "metadata": {},
   "outputs": [
    {
     "data": {
      "text/html": [
       "\n",
       "            <style>\n",
       "                .geemap-dark {\n",
       "                    --jp-widgets-color: white;\n",
       "                    --jp-widgets-label-color: white;\n",
       "                    --jp-ui-font-color1: white;\n",
       "                    --jp-layout-color2: #454545;\n",
       "                    background-color: #383838;\n",
       "                }\n",
       "                    \n",
       "                .geemap-dark .jupyter-button {\n",
       "                    --jp-layout-color3: #383838;\n",
       "                }\n",
       "                \n",
       "                .geemap-colab {\n",
       "                    background-color: var(--colab-primary-surface-color, white);\n",
       "                }\n",
       "                    \n",
       "                .geemap-colab .jupyter-button {\n",
       "                    --jp-layout-color3: var(--colab-primary-surface-color, white);\n",
       "                }\n",
       "            </style>\n",
       "            "
      ],
      "text/plain": [
       "<IPython.core.display.HTML object>"
      ]
     },
     "metadata": {},
     "output_type": "display_data"
    }
   ],
   "source": [
    "def calculate_annual_flood(year):\n",
    "    year = ee.Number(year)\n",
    "    annual = dataset.filter(ee.Filter.calendarRange(year, year, 'year')).sum()\n",
    "    return annual.set('year', year).set('system:time_start', ee.Date.fromYMD(year, 1, 1))"
   ]
  },
  {
   "cell_type": "code",
   "execution_count": 36,
   "id": "221e5dac",
   "metadata": {},
   "outputs": [
    {
     "data": {
      "text/html": [
       "\n",
       "            <style>\n",
       "                .geemap-dark {\n",
       "                    --jp-widgets-color: white;\n",
       "                    --jp-widgets-label-color: white;\n",
       "                    --jp-ui-font-color1: white;\n",
       "                    --jp-layout-color2: #454545;\n",
       "                    background-color: #383838;\n",
       "                }\n",
       "                    \n",
       "                .geemap-dark .jupyter-button {\n",
       "                    --jp-layout-color3: #383838;\n",
       "                }\n",
       "                \n",
       "                .geemap-colab {\n",
       "                    background-color: var(--colab-primary-surface-color, white);\n",
       "                }\n",
       "                    \n",
       "                .geemap-colab .jupyter-button {\n",
       "                    --jp-layout-color3: var(--colab-primary-surface-color, white);\n",
       "                }\n",
       "            </style>\n",
       "            "
      ],
      "text/plain": [
       "<IPython.core.display.HTML object>"
      ]
     },
     "metadata": {},
     "output_type": "display_data"
    }
   ],
   "source": [
    "annual_flood = ee.ImageCollection.fromImages(years.map(calculate_annual_flood))\n",
    "annualfloodCollectionIC = ee.ImageCollection(annual_flood);"
   ]
  },
  {
   "cell_type": "code",
   "execution_count": 37,
   "id": "6a5a657e",
   "metadata": {},
   "outputs": [
    {
     "data": {
      "text/html": [
       "\n",
       "            <style>\n",
       "                .geemap-dark {\n",
       "                    --jp-widgets-color: white;\n",
       "                    --jp-widgets-label-color: white;\n",
       "                    --jp-ui-font-color1: white;\n",
       "                    --jp-layout-color2: #454545;\n",
       "                    background-color: #383838;\n",
       "                }\n",
       "                    \n",
       "                .geemap-dark .jupyter-button {\n",
       "                    --jp-layout-color3: #383838;\n",
       "                }\n",
       "                \n",
       "                .geemap-colab {\n",
       "                    background-color: var(--colab-primary-surface-color, white);\n",
       "                }\n",
       "                    \n",
       "                .geemap-colab .jupyter-button {\n",
       "                    --jp-layout-color3: var(--colab-primary-surface-color, white);\n",
       "                }\n",
       "            </style>\n",
       "            "
      ],
      "text/plain": [
       "<IPython.core.display.HTML object>"
      ]
     },
     "metadata": {},
     "output_type": "display_data"
    }
   ],
   "source": [
    "annual_flood_image = annualfloodCollectionIC.toBands()\n",
    "annual_flood_image_clipped = annual_flood_image.clip(germany_boundary)"
   ]
  },
  {
   "cell_type": "code",
   "execution_count": 38,
   "id": "91a632c4",
   "metadata": {},
   "outputs": [
    {
     "data": {
      "text/html": [
       "\n",
       "            <style>\n",
       "                .geemap-dark {\n",
       "                    --jp-widgets-color: white;\n",
       "                    --jp-widgets-label-color: white;\n",
       "                    --jp-ui-font-color1: white;\n",
       "                    --jp-layout-color2: #454545;\n",
       "                    background-color: #383838;\n",
       "                }\n",
       "                    \n",
       "                .geemap-dark .jupyter-button {\n",
       "                    --jp-layout-color3: #383838;\n",
       "                }\n",
       "                \n",
       "                .geemap-colab {\n",
       "                    background-color: var(--colab-primary-surface-color, white);\n",
       "                }\n",
       "                    \n",
       "                .geemap-colab .jupyter-button {\n",
       "                    --jp-layout-color3: var(--colab-primary-surface-color, white);\n",
       "                }\n",
       "            </style>\n",
       "            "
      ],
      "text/plain": [
       "<IPython.core.display.HTML object>"
      ]
     },
     "metadata": {},
     "output_type": "display_data"
    }
   ],
   "source": [
    "Map.addLayer(annual_flood_image_clipped, {'palette': ['#fff7fb','#ece7f2','#d0d1e6','#a6bddb','#74a9cf','#3690c0','#0570b0','#045a8d','#023858'], 'bands': '2_flooded', min: 0, max: 10}, 'Annual flood 2000-2018');"
   ]
  },
  {
   "cell_type": "code",
   "execution_count": 39,
   "id": "02cdab12",
   "metadata": {},
   "outputs": [
    {
     "data": {
      "text/html": [
       "\n",
       "            <style>\n",
       "                .geemap-dark {\n",
       "                    --jp-widgets-color: white;\n",
       "                    --jp-widgets-label-color: white;\n",
       "                    --jp-ui-font-color1: white;\n",
       "                    --jp-layout-color2: #454545;\n",
       "                    background-color: #383838;\n",
       "                }\n",
       "                    \n",
       "                .geemap-dark .jupyter-button {\n",
       "                    --jp-layout-color3: #383838;\n",
       "                }\n",
       "                \n",
       "                .geemap-colab {\n",
       "                    background-color: var(--colab-primary-surface-color, white);\n",
       "                }\n",
       "                    \n",
       "                .geemap-colab .jupyter-button {\n",
       "                    --jp-layout-color3: var(--colab-primary-surface-color, white);\n",
       "                }\n",
       "            </style>\n",
       "            "
      ],
      "text/plain": [
       "<IPython.core.display.HTML object>"
      ]
     },
     "metadata": {},
     "output_type": "display_data"
    },
    {
     "data": {
      "application/vnd.jupyter.widget-view+json": {
       "model_id": "871bad77df86469586dcac57ea9bfcfd",
       "version_major": 2,
       "version_minor": 0
      },
      "text/plain": [
       "Map(bottom=3121.0, center=[48.777912755501845, 10.393066406250002], controls=(WidgetControl(options=['position…"
      ]
     },
     "execution_count": 39,
     "metadata": {},
     "output_type": "execute_result"
    }
   ],
   "source": [
    "Map"
   ]
  }
 ],
 "metadata": {
  "kernelspec": {
   "display_name": "Python 3 (ipykernel)",
   "language": "python",
   "name": "python3"
  },
  "language_info": {
   "codemirror_mode": {
    "name": "ipython",
    "version": 3
   },
   "file_extension": ".py",
   "mimetype": "text/x-python",
   "name": "python",
   "nbconvert_exporter": "python",
   "pygments_lexer": "ipython3",
   "version": "3.10.13"
  }
 },
 "nbformat": 4,
 "nbformat_minor": 5
}
